{
 "cells": [
  {
   "cell_type": "markdown",
   "id": "39b35269",
   "metadata": {},
   "source": [
    "## Soluciones lab02-challenge"
   ]
  },
  {
   "cell_type": "markdown",
   "id": "21cca063",
   "metadata": {},
   "source": [
    "Configuración del entorno"
   ]
  },
  {
   "cell_type": "code",
   "execution_count": null,
   "id": "9974fada",
   "metadata": {},
   "outputs": [],
   "source": [
    "from pyspark.sql import SparkSession\n",
    "from pyspark.sql import Row\n",
    "\n",
    "spark = SparkSession.builder.appName(\"lab02\").getOrCreate()\n",
    "\n",
    "rdd = spark.sparkContext.parallelize([(\"Alice\", 34), (\"Bob\", 45), (\"Cathy\", 29)])"
   ]
  },
  {
   "cell_type": "markdown",
   "id": "8b399936",
   "metadata": {},
   "source": [
    "Apartado 1"
   ]
  },
  {
   "cell_type": "code",
   "execution_count": null,
   "id": "3fa31be2",
   "metadata": {},
   "outputs": [],
   "source": [
    "mayores_40 = rdd.filter(lambda x: x[1] > 40)\n",
    "mayores_40.collect()"
   ]
  },
  {
   "cell_type": "markdown",
   "id": "cabadd07",
   "metadata": {},
   "source": [
    "Apartado 2"
   ]
  },
  {
   "cell_type": "code",
   "execution_count": null,
   "id": "774139a6",
   "metadata": {},
   "outputs": [],
   "source": [
    "df = spark.createDataFrame(rdd)\n",
    "df.show()"
   ]
  },
  {
   "cell_type": "code",
   "execution_count": null,
   "id": "23be39c7",
   "metadata": {},
   "outputs": [],
   "source": [
    "df = df.withColumnRenamed(\"_1\", \"name\").withColumnRenamed(\"_2\", \"age\")\n",
    "df.filter('age > 40').show()"
   ]
  }
 ],
 "metadata": {
  "kernelspec": {
   "display_name": "base",
   "language": "python",
   "name": "python3"
  },
  "language_info": {
   "codemirror_mode": {
    "name": "ipython",
    "version": 3
   },
   "file_extension": ".py",
   "mimetype": "text/x-python",
   "name": "python",
   "nbconvert_exporter": "python",
   "pygments_lexer": "ipython3",
   "version": "3.11.4"
  }
 },
 "nbformat": 4,
 "nbformat_minor": 5
}
