{
 "cells": [
  {
   "cell_type": "markdown",
   "id": "8d40d1cb",
   "metadata": {},
   "source": [
    "# RDDs vs DataFrames"
   ]
  },
  {
   "cell_type": "markdown",
   "id": "00cbfa3b",
   "metadata": {},
   "source": [
    "\n",
    "Apache Spark ofrece dos principales abstracciones para trabajar con datos:\n",
    "\n",
    "- **RDD (Resilient Distributed Dataset)**: una colección inmutable de objetos distribuidos. Proporciona control total sobre el procesamiento, pero requiere más código y no aprovecha optimizaciones automáticas.\n",
    "- **DataFrame**: colección distribuida de datos estructurados con nombres de columnas. Más fácil de usar, permite usar SQL y se beneficia del optimizador Catalyst.\n",
    "    "
   ]
  },
  {
   "cell_type": "markdown",
   "id": "d5b99f19",
   "metadata": {},
   "source": [
    "## Crear un RDD"
   ]
  },
  {
   "cell_type": "code",
   "execution_count": null,
   "id": "39e5cb32",
   "metadata": {},
   "outputs": [],
   "source": [
    "from pyspark.sql import SparkSession\n",
    "\n",
    "# Crear la sesión de Spark\n",
    "spark = SparkSession.builder.appName(\"PySpark02\").getOrCreate()"
   ]
  },
  {
   "cell_type": "code",
   "execution_count": null,
   "id": "766dd0be",
   "metadata": {},
   "outputs": [],
   "source": [
    "rdd = spark.sparkContext.parallelize([(\"Alice\", 34), (\"Bob\", 45), (\"Cathy\", 29)])\n",
    "print(rdd.collect())"
   ]
  },
  {
   "cell_type": "markdown",
   "id": "77ac9091",
   "metadata": {},
   "source": [
    "## Crear un DataFrame"
   ]
  },
  {
   "cell_type": "code",
   "execution_count": null,
   "id": "64179b0a",
   "metadata": {},
   "outputs": [],
   "source": [
    "from pyspark.sql import Row\n",
    "\n",
    "df = spark.createDataFrame([Row(name=\"Alice\", age=34), Row(name=\"Bob\", age=45), Row(name=\"Cathy\", age=29)])\n",
    "df.show()"
   ]
  },
  {
   "cell_type": "markdown",
   "id": "b2b1a27a",
   "metadata": {},
   "source": [
    "## Operaciones con RDDs"
   ]
  },
  {
   "cell_type": "code",
   "execution_count": null,
   "id": "d2012cac",
   "metadata": {},
   "outputs": [],
   "source": [
    "rdd_filtered = rdd.filter(lambda x: x[1] > 30)\n",
    "print(rdd_filtered.collect())"
   ]
  },
  {
   "cell_type": "markdown",
   "id": "b595d4a9",
   "metadata": {},
   "source": [
    "## Operaciones con DataFrames"
   ]
  },
  {
   "cell_type": "code",
   "execution_count": null,
   "id": "f870edc1",
   "metadata": {},
   "outputs": [],
   "source": [
    "df_filtered = df.filter(df.age > 30)\n",
    "df_filtered.show()"
   ]
  },
  {
   "cell_type": "markdown",
   "id": "eb26d239",
   "metadata": {},
   "source": [
    "## Comparación clave"
   ]
  },
  {
   "cell_type": "markdown",
   "id": "566de638",
   "metadata": {},
   "source": [
    "\n",
    "| Característica        | RDD                         | DataFrame                     |\n",
    "|-----------------------|-----------------------------|-------------------------------|\n",
    "| Tipo de datos         | Objetos Scala/Python        | Estructurado (columnas)       |\n",
    "| Interfaz              | Funciones lambda            | DSL + SQL                     |\n",
    "| Optimización          | Manual                      | Catalyst Optimizer            |\n",
    "| Seguridad de tipos    | Baja                        | Alta                          |\n",
    "| Rendimiento           | Medio                       | Alto                          |\n",
    "    "
   ]
  },
  {
   "cell_type": "markdown",
   "id": "d7c6dc8e",
   "metadata": {},
   "source": [
    "## ¿Cuándo usar cada uno?"
   ]
  },
  {
   "cell_type": "markdown",
   "id": "4b42c4f1",
   "metadata": {},
   "source": [
    "\n",
    "- Usa **RDDs** si necesitas manipular datos no estructurados, realizar operaciones complejas de bajo nivel, o si estás migrando código legacy.\n",
    "- Usa **DataFrames** para análisis estructurados, transformaciones SQL-like, y cuando priorizas rendimiento.\n",
    "    "
   ]
  },
  {
   "cell_type": "code",
   "execution_count": null,
   "id": "01b64f5d",
   "metadata": {},
   "outputs": [],
   "source": [
    "spark.stop()"
   ]
  }
 ],
 "metadata": {
  "kernelspec": {
   "display_name": "base",
   "language": "python",
   "name": "python3"
  },
  "language_info": {
   "codemirror_mode": {
    "name": "ipython",
    "version": 3
   },
   "file_extension": ".py",
   "mimetype": "text/x-python",
   "name": "python",
   "nbconvert_exporter": "python",
   "pygments_lexer": "ipython3",
   "version": "3.11.4"
  }
 },
 "nbformat": 4,
 "nbformat_minor": 5
}
