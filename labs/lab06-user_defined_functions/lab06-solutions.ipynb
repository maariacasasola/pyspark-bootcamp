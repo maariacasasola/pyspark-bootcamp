{
 "cells": [
  {
   "cell_type": "markdown",
   "id": "e8c833b2",
   "metadata": {},
   "source": [
    "## Soluciones lab06-challenge"
   ]
  },
  {
   "cell_type": "markdown",
   "id": "dbb87693",
   "metadata": {},
   "source": [
    "Entorno"
   ]
  },
  {
   "cell_type": "code",
   "execution_count": null,
   "id": "32e21bed",
   "metadata": {},
   "outputs": [],
   "source": [
    "from pyspark.sql import SparkSession\n",
    "from pyspark.sql.functions import udf, col, avg, count\n",
    "from pyspark.sql.types import StringType\n",
    "\n",
    "# Crear la sesión de Spark\n",
    "spark = SparkSession.builder.appName(\"lab06\").getOrCreate()\n",
    "\n",
    "# Cargar datos\n",
    "trips_df = spark.read.parquet(\"../../data/yellow_tripdata_2023-01.parquet\")\n",
    "trips_df.show(5)"
   ]
  },
  {
   "cell_type": "markdown",
   "id": "e91a8805",
   "metadata": {},
   "source": [
    "Apartado 1"
   ]
  },
  {
   "cell_type": "code",
   "execution_count": null,
   "id": "f6380ae2",
   "metadata": {},
   "outputs": [],
   "source": [
    "def clasificar_distancia(distance):\n",
    "    if distance is None:\n",
    "        return \"desconocida\"\n",
    "    elif distance < 2:\n",
    "        return \"corta\"\n",
    "    elif distance < 6:\n",
    "        return \"media\"\n",
    "    else:\n",
    "        return \"larga\"\n",
    "\n",
    "cat_distancia = udf(clasificar_distancia, StringType())"
   ]
  },
  {
   "cell_type": "code",
   "execution_count": null,
   "id": "93b3202a",
   "metadata": {},
   "outputs": [],
   "source": [
    "trips_df.select('tpep_pickup_datetime', 'tpep_dropoff_datetime', 'trip_distance').withColumn('Cat. distancia', cat_distancia(\"trip_distance\")).show(5)"
   ]
  },
  {
   "cell_type": "markdown",
   "id": "380e540e",
   "metadata": {},
   "source": [
    "Apartado 2"
   ]
  },
  {
   "cell_type": "code",
   "execution_count": null,
   "id": "8a9d0269",
   "metadata": {},
   "outputs": [],
   "source": [
    "def viaje_dia_noche(date):\n",
    "    if date is None:\n",
    "        return \"desconocido\"\n",
    "    elif date.hour >= 20 or date.hour < 6:\n",
    "        return \"noche\"\n",
    "    else:\n",
    "        return \"día\"\n",
    "\n",
    "cat_viaje_hora = udf(viaje_dia_noche, StringType())"
   ]
  },
  {
   "cell_type": "code",
   "execution_count": null,
   "id": "46d6fa33",
   "metadata": {},
   "outputs": [],
   "source": [
    "trips_df.select('tpep_pickup_datetime', 'tpep_dropoff_datetime', 'trip_distance').withColumn('Cat. momento día', cat_viaje_hora(\"tpep_pickup_datetime\")).orderBy('tpep_pickup_datetime', ascending=True).show(5)"
   ]
  },
  {
   "cell_type": "markdown",
   "id": "6b059966",
   "metadata": {},
   "source": [
    "Apartado 3"
   ]
  },
  {
   "cell_type": "code",
   "execution_count": null,
   "id": "9a4ef5a8",
   "metadata": {},
   "outputs": [],
   "source": [
    "def clasificar_propina(tip_amount):\n",
    "    if tip_amount is None:\n",
    "        return 'desconocido'\n",
    "    elif tip_amount == 0:\n",
    "        return 'sin propina'\n",
    "    elif tip_amount < 2:\n",
    "        return 'baja'\n",
    "    elif tip_amount > 6:\n",
    "        return 'alta'\n",
    "    else:\n",
    "        return 'media'\n",
    "\n",
    "cat_propina = udf(clasificar_propina, StringType())"
   ]
  },
  {
   "cell_type": "code",
   "execution_count": null,
   "id": "465d083f",
   "metadata": {},
   "outputs": [],
   "source": [
    "trips_df.select('tpep_pickup_datetime', 'tpep_dropoff_datetime', 'tip_amount').withColumn('Cat. propina', cat_propina('tip_amount')).show(5)"
   ]
  },
  {
   "cell_type": "markdown",
   "id": "90559c34",
   "metadata": {},
   "source": [
    "Apartado 4"
   ]
  },
  {
   "cell_type": "code",
   "execution_count": null,
   "id": "6fc9045e",
   "metadata": {},
   "outputs": [],
   "source": [
    "def franja_temp(tpep_pickup_datetime):\n",
    "    hour = tpep_pickup_datetime.hour\n",
    "    if hour > 7 and hour < 14:\n",
    "        return 'mañana'\n",
    "    elif hour > 14 and hour < 20:\n",
    "        return 'tarde'\n",
    "    elif hour > 20:\n",
    "        return 'noche'\n",
    "    elif hour < 7:\n",
    "        return 'madrugada'\n",
    "\n",
    "cat_franja_temporal = udf(franja_temp, StringType())\n",
    "\n",
    "def get_profile(distancia_cat, propina_cat, franja_temp):\n",
    "    if None in (distancia_cat, propina_cat, franja_temp):\n",
    "        return 'incompleto'\n",
    "    l = [distancia_cat, propina_cat, franja_temp]\n",
    "    return '|'.join(l) \n",
    "\n",
    "perfil = udf(get_profile, StringType())"
   ]
  },
  {
   "cell_type": "code",
   "execution_count": null,
   "id": "d84a3f4f",
   "metadata": {},
   "outputs": [],
   "source": [
    "result = trips_df.select('tpep_pickup_datetime', 'tpep_dropoff_datetime', 'trip_distance', 'tip_amount', 'total_amount').withColumn('Distancia categorizada', cat_distancia('trip_distance')) \\\n",
    ".withColumn('Propina categorizada', cat_propina('tip_amount')) \\\n",
    ".withColumn('Franja temporal', cat_franja_temporal('tpep_pickup_datetime')) \\\n",
    ".withColumn('Perfil', perfil('Distancia categorizada', 'Propina categorizada', 'Franja temporal'))"
   ]
  },
  {
   "cell_type": "code",
   "execution_count": null,
   "id": "161791f6",
   "metadata": {},
   "outputs": [],
   "source": [
    "result.show(5)"
   ]
  },
  {
   "cell_type": "markdown",
   "id": "8f83b4e9",
   "metadata": {},
   "source": [
    "Apartado 5"
   ]
  },
  {
   "cell_type": "code",
   "execution_count": null,
   "id": "eb001181",
   "metadata": {},
   "outputs": [],
   "source": [
    "print('Perfiles más comunes:')\n",
    "result.groupBy(\"Perfil\").count().orderBy(col(\"count\").desc()).show()"
   ]
  },
  {
   "cell_type": "code",
   "execution_count": null,
   "id": "acbee7f3",
   "metadata": {},
   "outputs": [],
   "source": [
    "print('Promedio de importe total por perfil:')\n",
    "result.groupBy('Perfil').agg(avg('total_amount').alias('Promedio de importe')).orderBy(col('Promedio de importe').desc()).show()"
   ]
  },
  {
   "cell_type": "markdown",
   "id": "bb358e9f",
   "metadata": {},
   "source": [
    "Apartado 6"
   ]
  },
  {
   "cell_type": "code",
   "execution_count": null,
   "id": "42caf036",
   "metadata": {},
   "outputs": [],
   "source": [
    "def anomalies(tpep_pickup_datetime, tpep_dropoff_datetime, trip_distance, total_amount, tip_amount, fare_amount):\n",
    "    try:\n",
    "        a = 0\n",
    "        duration = (tpep_dropoff_datetime - tpep_pickup_datetime).total_seconds()/60\n",
    "        if duration > 120:\n",
    "            a+=1\n",
    "        if trip_distance > 30:\n",
    "            a+=1\n",
    "        if total_amount > 250:\n",
    "            a+=1\n",
    "        if tip_amount > fare_amount:\n",
    "            a+=1\n",
    "        return 'sospechoso'if a > 1 else 'normal'\n",
    "    except:\n",
    "        return 'desconocido'\n",
    "\n",
    "viajes_anomalos = udf(anomalies, StringType())"
   ]
  },
  {
   "cell_type": "code",
   "execution_count": null,
   "id": "a8472e25",
   "metadata": {},
   "outputs": [],
   "source": [
    "anomalies = trips_df.withColumn('Tipo de viaje', viajes_anomalos('tpep_pickup_datetime', 'tpep_dropoff_datetime', 'trip_distance', 'total_amount', 'tip_amount', 'fare_amount'))"
   ]
  },
  {
   "cell_type": "code",
   "execution_count": null,
   "id": "191f00fc",
   "metadata": {},
   "outputs": [],
   "source": [
    "print('Viajes anómalos:')\n",
    "anomalies.groupBy('Tipo de viaje').count().show()"
   ]
  },
  {
   "cell_type": "markdown",
   "id": "7195822f",
   "metadata": {},
   "source": [
    "**Plus**: Realizar dos Joins con el archivo de las zonas de Taxis para mostrar los nombres de las paradas en vez de el ID y mostramos los datos agrupados por recorridos ({PULocation: DOLocation}) para un mejor análisis"
   ]
  },
  {
   "cell_type": "code",
   "execution_count": null,
   "id": "46a04975",
   "metadata": {},
   "outputs": [],
   "source": [
    "taxi_zones = spark.read.option(\"header\", True).csv(\"../../data/taxi_zone_lookup.csv\")\n",
    "\n",
    "anomalies_reduced = anomalies.select('tpep_pickup_datetime','tpep_dropoff_datetime', 'PULocationID', 'DOLocationID', 'trip_distance', 'fare_amount', 'tip_amount', 'Tipo de viaje')\n",
    "PU_zones = anomalies_reduced.join(taxi_zones.select('LocationID', 'Zone').withColumnRenamed('LocationID', 'PULocationID').withColumnRenamed('Zone', 'PULocation'), on=\"PULocationID\", how=\"left\")\n",
    "DO_zones = PU_zones.join(taxi_zones.select('LocationID', 'Zone').withColumnRenamed('LocationID', 'DOLocationID').withColumnRenamed('Zone', 'DOLocation'), on=\"DOLocationID\", how=\"left\")\n",
    "res = DO_zones.drop('DOLocationID', 'PULocationID')"
   ]
  },
  {
   "cell_type": "code",
   "execution_count": null,
   "id": "6543f412",
   "metadata": {},
   "outputs": [],
   "source": [
    "print('Análisis de viajes sospechosos por recorrido:')\n",
    "res.filter(col(\"Tipo de viaje\") == \"sospechoso\") \\\n",
    "         .groupBy(\"PULocation\", \"DOLocation\") \\\n",
    "         .count() \\\n",
    "         .orderBy(col(\"count\").desc()) \\\n",
    "         .show()"
   ]
  },
  {
   "cell_type": "code",
   "execution_count": null,
   "id": "64fdcf73",
   "metadata": {},
   "outputs": [],
   "source": [
    "spark.stop()"
   ]
  }
 ],
 "metadata": {
  "kernelspec": {
   "display_name": "base",
   "language": "python",
   "name": "python3"
  },
  "language_info": {
   "codemirror_mode": {
    "name": "ipython",
    "version": 3
   },
   "file_extension": ".py",
   "mimetype": "text/x-python",
   "name": "python",
   "nbconvert_exporter": "python",
   "pygments_lexer": "ipython3",
   "version": "3.11.4"
  }
 },
 "nbformat": 4,
 "nbformat_minor": 5
}
