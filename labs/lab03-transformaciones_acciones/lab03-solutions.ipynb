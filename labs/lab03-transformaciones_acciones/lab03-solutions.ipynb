{
 "cells": [
  {
   "cell_type": "markdown",
   "id": "7f7172d8",
   "metadata": {},
   "source": [
    "## Soluciones lab03-challenge"
   ]
  },
  {
   "cell_type": "markdown",
   "id": "54dc7bd4",
   "metadata": {},
   "source": [
    "Configuración del entorno"
   ]
  },
  {
   "cell_type": "code",
   "execution_count": null,
   "id": "1674fcf1",
   "metadata": {},
   "outputs": [],
   "source": [
    "from pyspark.sql import SparkSession\n",
    "import pyspark.sql.functions as f\n",
    "from pyspark.sql.types import StructType, StructField, IntegerType, StringType\n",
    "\n",
    "# Crear la sesión de Spark\n",
    "spark = SparkSession.builder.appName(\"lab03\").getOrCreate()"
   ]
  },
  {
   "cell_type": "code",
   "execution_count": null,
   "id": "f6fa723b",
   "metadata": {},
   "outputs": [],
   "source": [
    "# Define el schema\n",
    "schema = StructType([\n",
    "    StructField(\"movieId\", IntegerType(), True),\n",
    "    StructField(\"title\", StringType(), True),\n",
    "    StructField(\"genres\", StringType(), True),\n",
    "    StructField(\"views\", IntegerType(), True),\n",
    "    StructField(\"quality\", StringType(), True)\n",
    "])\n",
    "\n",
    "# Leer archivo CSV\n",
    "df = spark.read.option(\"header\", True).schema(schema).csv(\"../../data/movies.csv\")"
   ]
  },
  {
   "cell_type": "markdown",
   "id": "74056098",
   "metadata": {},
   "source": [
    "Apartado 2"
   ]
  },
  {
   "cell_type": "code",
   "execution_count": null,
   "id": "4799a9f5",
   "metadata": {},
   "outputs": [],
   "source": [
    "df.groupBy(\"movieId\").agg(f.count(\"*\").alias(\"repetitions\")).filter(\"repetitions > 1\").show()"
   ]
  },
  {
   "cell_type": "markdown",
   "id": "8210bad5",
   "metadata": {},
   "source": [
    "Apartado 3"
   ]
  },
  {
   "cell_type": "code",
   "execution_count": null,
   "id": "e97cdfd8",
   "metadata": {},
   "outputs": [],
   "source": [
    "df_year = df.withColumn('year', f.regexp_extract(f.col('title'), r\"\\((\\d{4})\\)\", 1))"
   ]
  },
  {
   "cell_type": "markdown",
   "id": "39825427",
   "metadata": {},
   "source": [
    "Apartado 4"
   ]
  },
  {
   "cell_type": "code",
   "execution_count": null,
   "id": "732f399a",
   "metadata": {},
   "outputs": [],
   "source": [
    "df_year = df_year.withColumn(\"year\", f.col(\"year\").cast(IntegerType()))\n",
    "df_year.agg(f.max('year')).show()"
   ]
  },
  {
   "cell_type": "markdown",
   "id": "b0602a12",
   "metadata": {},
   "source": [
    "Apartado 5"
   ]
  },
  {
   "cell_type": "code",
   "execution_count": null,
   "id": "c40209ae",
   "metadata": {},
   "outputs": [],
   "source": [
    "normalize_genre = df_year.withColumn('genre', f.explode(f.split('genres', '\\|')))\n",
    "avg_views_genres = normalize_genre.groupBy('genre').agg(f.avg('views').alias('genre_views_average'))"
   ]
  },
  {
   "cell_type": "code",
   "execution_count": null,
   "id": "8dd8d96b",
   "metadata": {},
   "outputs": [],
   "source": [
    "spark.stop()"
   ]
  }
 ],
 "metadata": {
  "kernelspec": {
   "display_name": "base",
   "language": "python",
   "name": "python3"
  },
  "language_info": {
   "codemirror_mode": {
    "name": "ipython",
    "version": 3
   },
   "file_extension": ".py",
   "mimetype": "text/x-python",
   "name": "python",
   "nbconvert_exporter": "python",
   "pygments_lexer": "ipython3",
   "version": "3.11.4"
  }
 },
 "nbformat": 4,
 "nbformat_minor": 5
}
