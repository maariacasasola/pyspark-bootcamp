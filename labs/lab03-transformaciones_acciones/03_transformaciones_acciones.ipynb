{
 "cells": [
  {
   "cell_type": "markdown",
   "id": "99defaee",
   "metadata": {},
   "source": [
    "# Transformaciones y Acciones en Spark\n",
    "\n",
    "En Spark, existen dos tipos principales de operaciones:\n",
    "\n",
    "- **Transformaciones**: crean un nuevo RDD o DataFrame a partir de uno existente. Son *lazy*, es decir, no se ejecutan hasta que se llama una acción. Ejemplos: `map`, `filter`, `select`, `groupBy`.\n",
    "- **Acciones**: disparan la ejecución de las transformaciones anteriores. Ejemplos: `collect`, `count`, `show`, `save`.\n"
   ]
  },
  {
   "cell_type": "markdown",
   "id": "5c021a61",
   "metadata": {},
   "source": [
    "## Dataset de ejemplo"
   ]
  },
  {
   "cell_type": "code",
   "execution_count": null,
   "id": "d3fca650",
   "metadata": {},
   "outputs": [],
   "source": [
    "from pyspark.sql import SparkSession\n",
    "import pyspark.sql.functions as f\n",
    "\n",
    "# Crear la sesión de Spark\n",
    "spark = SparkSession.builder.appName(\"PySpark03\").getOrCreate()"
   ]
  },
  {
   "cell_type": "code",
   "execution_count": null,
   "id": "aa9061ed",
   "metadata": {},
   "outputs": [],
   "source": [
    "data = [\n",
    "    (\"Alice\", \"HR\", 3000),\n",
    "    (\"Bob\", \"IT\", 4500),\n",
    "    (\"Cathy\", \"HR\", 3200),\n",
    "    (\"David\", \"IT\", 5000),\n",
    "    (\"Eve\", \"Finance\", 4000)\n",
    "]\n",
    "columns = [\"name\", \"department\", \"salary\"]\n",
    "\n",
    "df = spark.createDataFrame(data, columns)\n",
    "df.show()"
   ]
  },
  {
   "cell_type": "markdown",
   "id": "b051d46a",
   "metadata": {},
   "source": [
    "## Transformaciones comunes\n"
   ]
  },
  {
   "cell_type": "code",
   "execution_count": null,
   "id": "459722f5",
   "metadata": {},
   "outputs": [],
   "source": [
    "# Selección de columnas\n",
    "df_select = df.select(\"name\", \"salary\")\n",
    "\n",
    "# Filtro\n",
    "df_filtered = df.filter(\"salary > 3500\")\n",
    "\n",
    "# Agregación\n",
    "df_grouped = df.groupBy(\"department\").avg(\"salary\")"
   ]
  },
  {
   "cell_type": "markdown",
   "id": "25924905",
   "metadata": {},
   "source": [
    "## Acciones comunes\n"
   ]
  },
  {
   "cell_type": "code",
   "execution_count": null,
   "id": "b34344d5",
   "metadata": {},
   "outputs": [],
   "source": [
    "# Mostrar resultados\n",
    "df_filtered.show()\n",
    "\n",
    "# Contar filas\n",
    "print(\"Filas:\", df_filtered.count())\n",
    "\n",
    "# Recoger datos en una lista\n",
    "print(\"Collect:\", df_filtered.collect())"
   ]
  },
  {
   "cell_type": "markdown",
   "id": "fa40dcff",
   "metadata": {},
   "source": [
    "## Encadenar transformaciones"
   ]
  },
  {
   "cell_type": "code",
   "execution_count": null,
   "id": "bd2c577e",
   "metadata": {},
   "outputs": [],
   "source": [
    "df_result = df.filter('salary > 3500').groupBy(\"department\").count()\n",
    "df_result.show()"
   ]
  },
  {
   "cell_type": "markdown",
   "id": "59c80361",
   "metadata": {},
   "source": [
    "## Aggregate"
   ]
  },
  {
   "cell_type": "markdown",
   "id": "553f8d85",
   "metadata": {},
   "source": [
    "Las agregaciones te permiten resumir o condensar la información de un DataFrame usando funciones como avg, count, max, min, sum, etc."
   ]
  },
  {
   "cell_type": "code",
   "execution_count": null,
   "id": "ce2d2365",
   "metadata": {},
   "outputs": [],
   "source": [
    "df_result = df.groupBy('department').agg(avg('salary').alias('prom_salary'))\n",
    "df_result.show()"
   ]
  },
  {
   "cell_type": "markdown",
   "id": "7e53c974",
   "metadata": {},
   "source": [
    "## Ejercicios prácticos"
   ]
  },
  {
   "cell_type": "markdown",
   "id": "3dd385a1",
   "metadata": {},
   "source": [
    "Leemos los datos de _\"../data/movies.csv\"_ predefiniendo su esquema"
   ]
  },
  {
   "cell_type": "code",
   "execution_count": null,
   "id": "4e398f63",
   "metadata": {},
   "outputs": [],
   "source": [
    "from pyspark.sql.types import StructType, StructField, IntegerType, StringType"
   ]
  },
  {
   "cell_type": "code",
   "execution_count": null,
   "id": "ab93384e",
   "metadata": {},
   "outputs": [],
   "source": [
    "# Define el schema\n",
    "schema = StructType([\n",
    "    StructField(\"movieId\", IntegerType(), True),\n",
    "    StructField(\"title\", StringType(), True),\n",
    "    StructField(\"genres\", StringType(), True),\n",
    "    StructField(\"views\", IntegerType(), True),\n",
    "    StructField(\"quality\", StringType(), True)\n",
    "])\n",
    "\n",
    "# Leer archivo CSV\n",
    "df = spark.read.option(\"header\", True).schema(schema).csv(\"../data/movies.csv\")\n",
    "\n",
    "df.printSchema()\n",
    "df.show(5)"
   ]
  },
  {
   "cell_type": "markdown",
   "id": "c2cfa06f",
   "metadata": {},
   "source": [
    "Aplicamos lo aprendido"
   ]
  },
  {
   "cell_type": "code",
   "execution_count": null,
   "id": "80893ea0",
   "metadata": {},
   "outputs": [],
   "source": [
    "# Conteo total de registros\n",
    "print(\"Total de películas:\", df.count())\n",
    "\n",
    "# Filtrar películas con más de 10.000 visualizaciones y seleccionamos solo algunas columnas\n",
    "df_filtered = df.select(\"title\", \"genres\", \"views\", \"quality\").filter(f.col(\"views\") > 10000)\n",
    "\n",
    "# Agrupación por promedio de calidad\n",
    "df_grouped = df_filtered.groupBy(\"quality\").agg(f.avg(\"views\").alias(\"avg_views\"))\n",
    "df_grouped.orderBy(f.col(\"avg_views\").desc()).show()"
   ]
  },
  {
   "cell_type": "code",
   "execution_count": null,
   "id": "e6f136fc",
   "metadata": {},
   "outputs": [],
   "source": [
    "spark.stop()"
   ]
  }
 ],
 "metadata": {
  "kernelspec": {
   "display_name": "base",
   "language": "python",
   "name": "python3"
  },
  "language_info": {
   "codemirror_mode": {
    "name": "ipython",
    "version": 3
   },
   "file_extension": ".py",
   "mimetype": "text/x-python",
   "name": "python",
   "nbconvert_exporter": "python",
   "pygments_lexer": "ipython3",
   "version": "3.11.4"
  }
 },
 "nbformat": 4,
 "nbformat_minor": 5
}
