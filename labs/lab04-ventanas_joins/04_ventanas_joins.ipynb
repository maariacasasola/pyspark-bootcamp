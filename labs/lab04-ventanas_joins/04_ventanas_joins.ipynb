{
 "cells": [
  {
   "cell_type": "markdown",
   "id": "3f3ef0b7",
   "metadata": {},
   "source": [
    "# Operaciones con Ventanas y Joins en Spark\n",
    "\n",
    "Spark permite aplicar funciones de ventana y realizar joins entre DataFrames, herramientas esenciales para análisis complejos como rankings, cálculos acumulados y combinaciones de datasets."
   ]
  },
  {
   "cell_type": "code",
   "execution_count": null,
   "id": "098533b0",
   "metadata": {},
   "outputs": [],
   "source": [
    "from pyspark.sql.window import Window\n",
    "from pyspark.sql.functions import col, row_number, avg\n",
    "from pyspark.sql import SparkSession\n",
    "import pyspark.sql.functions as f\n",
    "\n",
    "# Crear la sesión de Spark\n",
    "spark = SparkSession.builder.appName(\"PySpark04\").getOrCreate()\n",
    "\n",
    "# Dataset de ejemplo\n",
    "data = [\n",
    "    (\"Alice\", \"HR\", 3000),\n",
    "    (\"Bob\", \"IT\", 4500),\n",
    "    (\"Cathy\", \"HR\", 3200),\n",
    "    (\"David\", \"IT\", 5000),\n",
    "    (\"Eve\", \"Finance\", 4000),\n",
    "    (\"Frank\", \"Finance\", 4200)\n",
    "]\n",
    "columns = [\"name\", \"department\", \"salary\"]\n",
    "\n",
    "df = spark.createDataFrame(data, columns)\n",
    "df.show()"
   ]
  },
  {
   "cell_type": "markdown",
   "id": "680ec6f7",
   "metadata": {},
   "source": [
    "## Operaciones de Ventana"
   ]
  },
  {
   "cell_type": "markdown",
   "id": "bea90632",
   "metadata": {},
   "source": [
    "Las Window functions permiten realizar cálculos sobre un grupo de filas relacionadas, pero sin colapsarlas en una sola fila (a diferencia de groupBy). Muy útil para rankings, medias móviles, diferencias entre filas, etc."
   ]
  },
  {
   "cell_type": "markdown",
   "id": "af6758b2",
   "metadata": {},
   "source": [
    "#### Componentes de una Window\n",
    "- *partitionBy*: cómo dividir los datos (ej. por usuario)\n",
    "- *orderBy*: cómo ordenar cada partición (ej. por valoraciones)"
   ]
  },
  {
   "cell_type": "markdown",
   "id": "a6775808",
   "metadata": {},
   "source": [
    "### Rankear empleados por salario dentro de su departamento"
   ]
  },
  {
   "cell_type": "code",
   "execution_count": null,
   "id": "1f05ae51",
   "metadata": {},
   "outputs": [],
   "source": [
    "window_spec = Window.partitionBy(\"department\").orderBy(col(\"salary\").desc())\n",
    "\n",
    "df_ranked = df.withColumn(\"rank\", row_number().over(window_spec))\n",
    "df_ranked.show()"
   ]
  },
  {
   "cell_type": "markdown",
   "id": "62e19dfb",
   "metadata": {},
   "source": [
    "### Calcular salario promedio por departamento con función de ventana"
   ]
  },
  {
   "cell_type": "code",
   "execution_count": null,
   "id": "c6c60380",
   "metadata": {},
   "outputs": [],
   "source": [
    "df_avg = df.withColumn(\"avg_salary\", avg(\"salary\").over(Window.partitionBy(\"department\")))\n",
    "df_avg.show()"
   ]
  },
  {
   "cell_type": "markdown",
   "id": "aa505a49",
   "metadata": {},
   "source": [
    "## Joins entre DataFrames"
   ]
  },
  {
   "cell_type": "markdown",
   "id": "cc76a368",
   "metadata": {},
   "source": [
    "Los joins permiten combinar datos de dos DataFrames en función de columnas comunes (que se recomienda que sean ids). Es fundamental para enriquecer un conjunto de datos con información de otro."
   ]
  },
  {
   "cell_type": "markdown",
   "id": "05572e47",
   "metadata": {},
   "source": [
    "|Tipo|Descripción|\n",
    "|----------|----------|\n",
    "|inner|Devuelve solo las filas que coinciden en ambas tablas.|\n",
    "|left|Devuelve todas las filas de la izquierda y las coincidencias de la derecha. Si no hay coincidencia, los valores de la derecha son null.|\n",
    "|right|Igual que left, pero para el DataFrame derecho.|\n",
    "|outer|Devuelve todas las filas, con null donde no hay coincidencia.|\n",
    "|semi|Devuelve solo las filas del DataFrame izquierdo que tienen coincidencia, sin añadir columnas del derecho.|\n",
    "|anti|Devuelve las filas del DataFrame izquierdo que no tienen coincidencia en el derecho.|"
   ]
  },
  {
   "cell_type": "markdown",
   "id": "bcbd9702",
   "metadata": {},
   "source": [
    "### Dataset adicional: managers"
   ]
  },
  {
   "cell_type": "code",
   "execution_count": null,
   "id": "049dd056",
   "metadata": {},
   "outputs": [],
   "source": [
    "managers = [(\"HR\", \"Laura\"), (\"IT\", \"Steve\"), (\"Finance\", \"Paul\")]\n",
    "mgr_columns = [\"department\", \"manager\"]\n",
    "\n",
    "df_mgr = spark.createDataFrame(managers, mgr_columns)\n",
    "df_mgr.show()"
   ]
  },
  {
   "cell_type": "markdown",
   "id": "d507e5c9",
   "metadata": {},
   "source": [
    "### Join de empleados con sus managers"
   ]
  },
  {
   "cell_type": "code",
   "execution_count": null,
   "id": "ee365cc5",
   "metadata": {},
   "outputs": [],
   "source": [
    "df_joined = df.join(df_mgr, on=\"department\", how=\"inner\")\n",
    "df_joined.select(\"name\", \"department\", \"salary\", \"manager\").show()"
   ]
  },
  {
   "cell_type": "markdown",
   "id": "ecc01ef8",
   "metadata": {},
   "source": [
    "## Ejercicio\n",
    "1. Carga los datos de */../data/movies.csv* y los de *../data/ratings.csv* que contienen datos de películas y valoraciones, respectivamente. \n",
    "2. Añade los títulos de las películas a los datos de puntuaciones\n",
    "3. Extrae la película más valorada por cada usuario usando una función ventana"
   ]
  },
  {
   "cell_type": "code",
   "execution_count": null,
   "id": "48338873",
   "metadata": {},
   "outputs": [],
   "source": [
    "movies = spark.read.csv(\"../../data/movies.csv\", header=True, inferSchema=True)\n",
    "ratings = spark.read.csv(\"../../data/ratings.csv\", header=True, inferSchema=True)"
   ]
  },
  {
   "cell_type": "code",
   "execution_count": null,
   "id": "322b8637",
   "metadata": {},
   "outputs": [],
   "source": [
    "# Añade los títulos de las películas a los datos de puntuaciones\n",
    "ratings_with_titles = ratings.join(movies.select(\"movieId\", \"title\"), on=\"movieId\", how=\"inner\")\n",
    "ratings_with_titles.show(10)"
   ]
  },
  {
   "cell_type": "code",
   "execution_count": null,
   "id": "7c19b5a7",
   "metadata": {},
   "outputs": [],
   "source": [
    "#Película más valorada por cada usuario\n",
    "window_user = Window.partitionBy(\"userId\").orderBy(ratings_with_titles[\"rating\"].desc())\n",
    "\n",
    "top_movies_per_user = ratings_with_titles \\\n",
    "    .withColumn(\"rank\", f.row_number().over(window_user)) \\\n",
    "    .filter(\"rank = 1\")\n",
    "\n",
    "print('Película más valorada por cada usuario:')\n",
    "top_movies_per_user.select(\"userId\", \"title\", \"rating\").show(10)"
   ]
  },
  {
   "cell_type": "code",
   "execution_count": null,
   "id": "b34bf3e4",
   "metadata": {},
   "outputs": [],
   "source": [
    "spark.stop()"
   ]
  }
 ],
 "metadata": {
  "kernelspec": {
   "display_name": "base",
   "language": "python",
   "name": "python3"
  },
  "language_info": {
   "codemirror_mode": {
    "name": "ipython",
    "version": 3
   },
   "file_extension": ".py",
   "mimetype": "text/x-python",
   "name": "python",
   "nbconvert_exporter": "python",
   "pygments_lexer": "ipython3",
   "version": "3.11.4"
  }
 },
 "nbformat": 4,
 "nbformat_minor": 5
}
