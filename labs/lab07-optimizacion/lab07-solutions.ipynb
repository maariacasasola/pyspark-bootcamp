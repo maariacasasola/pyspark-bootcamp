{
 "cells": [
  {
   "cell_type": "markdown",
   "id": "4cb2ff41",
   "metadata": {},
   "source": [
    "## Soluciones lab07-challenge"
   ]
  },
  {
   "cell_type": "markdown",
   "id": "6eb4375e",
   "metadata": {},
   "source": [
    "Entorno"
   ]
  },
  {
   "cell_type": "code",
   "execution_count": null,
   "id": "ce9dfd44",
   "metadata": {},
   "outputs": [],
   "source": [
    "from pyspark.sql import SparkSession\n",
    "from pyspark.sql import functions as f\n",
    "from pyspark.sql.window import Window\n",
    "from pyspark.sql.types import StructType, StructField, IntegerType, StringType\n",
    "\n",
    "# Crear la sesión de Spark\n",
    "spark = SparkSession.builder.appName(\"lab07\").getOrCreate()\n",
    "\n",
    "# Define el schema\n",
    "schema = StructType([\n",
    "    StructField(\"movieId\", IntegerType(), True),\n",
    "    StructField(\"title\", StringType(), True),\n",
    "    StructField(\"genres\", StringType(), True),\n",
    "    StructField(\"views\", IntegerType(), True),\n",
    "    StructField(\"quality\", StringType(), True)\n",
    "])\n",
    "\n",
    "# Leer archivo CSV\n",
    "movies = spark.read.option(\"header\", True).schema(schema).csv(\"../../data/movies.csv\")"
   ]
  },
  {
   "cell_type": "markdown",
   "id": "01bbdc47",
   "metadata": {},
   "source": [
    "Apartado 1"
   ]
  },
  {
   "cell_type": "code",
   "execution_count": null,
   "id": "4a387ca0",
   "metadata": {},
   "outputs": [],
   "source": [
    "df_exploded = movies.withColumn(\"genre\", f.explode(f.split(f.col(\"genres\"), \"\\|\")))\n",
    "window_spec = Window.partitionBy(\"genre\").orderBy(f.col(\"views\").desc())\n",
    "df_top3 = df_exploded.withColumn(\"rank\", f.row_number().over(window_spec)) \\\n",
    "                     .filter(f.col(\"rank\") <= 3) \\\n",
    "                     .select(\"movieId\", \"title\", \"genre\", \"views\")\n",
    "df_top3.show()"
   ]
  },
  {
   "cell_type": "code",
   "execution_count": null,
   "id": "abbcf40b",
   "metadata": {},
   "outputs": [],
   "source": [
    "df_top3.write.partitionBy(\"genre\").parquet(\"lab_data/partition_by_genre.parquet\")"
   ]
  },
  {
   "cell_type": "markdown",
   "id": "bf664e18",
   "metadata": {},
   "source": [
    "Apartado 2"
   ]
  },
  {
   "cell_type": "code",
   "execution_count": null,
   "id": "b031fb07",
   "metadata": {},
   "outputs": [],
   "source": [
    "adventure_data = spark.read.parquet(\"./lab_data/partition_by_genre.parquet/genre=Adventure\")\n",
    "adventure_data.show()"
   ]
  },
  {
   "cell_type": "code",
   "execution_count": 38,
   "id": "66e3db6a",
   "metadata": {},
   "outputs": [],
   "source": [
    "spark.stop()"
   ]
  }
 ],
 "metadata": {
  "kernelspec": {
   "display_name": "base",
   "language": "python",
   "name": "python3"
  },
  "language_info": {
   "codemirror_mode": {
    "name": "ipython",
    "version": 3
   },
   "file_extension": ".py",
   "mimetype": "text/x-python",
   "name": "python",
   "nbconvert_exporter": "python",
   "pygments_lexer": "ipython3",
   "version": "3.11.4"
  }
 },
 "nbformat": 4,
 "nbformat_minor": 5
}
