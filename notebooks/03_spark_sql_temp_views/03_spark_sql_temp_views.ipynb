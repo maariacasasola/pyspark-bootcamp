{
 "cells": [
  {
   "cell_type": "markdown",
   "id": "2838481f",
   "metadata": {},
   "source": [
    "# Spark SQL y vistas temporales"
   ]
  },
  {
   "cell_type": "markdown",
   "id": "eabb6afd",
   "metadata": {},
   "source": [
    "### Preparación de entorno y análisis de dataset"
   ]
  },
  {
   "cell_type": "code",
   "execution_count": null,
   "id": "6fe8ac8c",
   "metadata": {},
   "outputs": [],
   "source": [
    "from pyspark.sql import SparkSession\n",
    "import pyspark.sql.functions as f\n",
    "from pyspark.sql.window import Window\n",
    "\n",
    "# Crear la sesión de Spark\n",
    "spark = SparkSession.builder.appName(\"PySpark03\").getOrCreate()"
   ]
  },
  {
   "cell_type": "code",
   "execution_count": null,
   "id": "826c00f0",
   "metadata": {},
   "outputs": [],
   "source": [
    "# Cargar datos\n",
    "df = spark.read.option(\"header\", True).csv(\"../../data/taxi_zone_lookup.csv\")\n",
    "\n",
    "# Ver las primeras filas\n",
    "df.show(5)\n",
    "\n",
    "# Esquema del DataFrame\n",
    "df.printSchema()"
   ]
  },
  {
   "cell_type": "markdown",
   "id": "c4d07e4e",
   "metadata": {},
   "source": [
    "### Creación de una tabla temporal"
   ]
  },
  {
   "cell_type": "code",
   "execution_count": null,
   "id": "a6ab3037",
   "metadata": {},
   "outputs": [],
   "source": [
    "# Crear vista temporal\n",
    "df.createOrReplaceTempView(\"taxi_zones\")"
   ]
  },
  {
   "cell_type": "markdown",
   "id": "d1ded845",
   "metadata": {},
   "source": [
    "### Consultas SQL"
   ]
  },
  {
   "cell_type": "markdown",
   "id": "7f24d9db",
   "metadata": {},
   "source": [
    "PySpark te permite realizar consultas SQL directamente sobre las tablas creadas. Por ejemplo, si tratáramos de responder a la pregunta \"¿Cuántas zonas hay por borough?\", podríamos formular la siguiente query:\n",
    "```sql SELECT Borough, COUNT(DISTINCT Zone) AS num_zones\n",
    "FROM taxi_zones\n",
    "GROUP BY Borough\n",
    "ORDER BY num_zones DESC "
   ]
  },
  {
   "cell_type": "markdown",
   "id": "b3267481",
   "metadata": {},
   "source": [
    "Con Spark, podemos lanzarla directamente como una query de  SQL sin tener que traducirla a PySpark."
   ]
  },
  {
   "cell_type": "code",
   "execution_count": null,
   "id": "0d3fc370",
   "metadata": {},
   "outputs": [],
   "source": [
    "spark.sql(\"\"\"\n",
    "    SELECT Borough, COUNT(DISTINCT Zone) AS num_zones\n",
    "    FROM taxi_zones\n",
    "    GROUP BY Borough\n",
    "    ORDER BY num_zones DESC\n",
    "\"\"\").show()"
   ]
  },
  {
   "cell_type": "markdown",
   "id": "25616427",
   "metadata": {},
   "source": [
    "Ejemplo 2: \"¿Cuántos LocationID hay por zona de servicio?\""
   ]
  },
  {
   "cell_type": "code",
   "execution_count": null,
   "id": "39a37b2f",
   "metadata": {},
   "outputs": [],
   "source": [
    "spark.sql(\"\"\"\n",
    "    SELECT service_zone, COUNT(*) AS location_count\n",
    "    FROM taxi_zones\n",
    "    GROUP BY service_zone\n",
    "\"\"\").show()"
   ]
  },
  {
   "cell_type": "markdown",
   "id": "18f0a4b9",
   "metadata": {},
   "source": [
    "### Función explain()"
   ]
  },
  {
   "cell_type": "code",
   "execution_count": null,
   "id": "dc5658d7",
   "metadata": {},
   "outputs": [],
   "source": [
    "spark.sql(\"\"\"\n",
    "    SELECT service_zone, COUNT(*) AS location_count\n",
    "    FROM taxi_zones\n",
    "    GROUP BY service_zone\n",
    "\"\"\").explain(True)"
   ]
  },
  {
   "cell_type": "markdown",
   "id": "2f6597f7",
   "metadata": {},
   "source": [
    "### Join con Spark SQL"
   ]
  },
  {
   "cell_type": "code",
   "execution_count": null,
   "id": "56e029b7",
   "metadata": {},
   "outputs": [],
   "source": [
    "# Cargar el dataset de viajes\n",
    "trips_df = spark.read.parquet(\"../../data/yellow_tripdata_2023-01.parquet\")\n",
    "\n",
    "# Mostrar algunas filas\n",
    "trips_df.show(5)\n",
    "\n",
    "# Ver el esquema\n",
    "trips_df.printSchema()"
   ]
  },
  {
   "cell_type": "markdown",
   "id": "262eea80",
   "metadata": {},
   "source": [
    "¿Cuáles son las zonas con más viajes iniciados? "
   ]
  },
  {
   "cell_type": "code",
   "execution_count": 10,
   "id": "028fa31e",
   "metadata": {},
   "outputs": [],
   "source": [
    "trips_df.createOrReplaceTempView(\"yellow_trips\")"
   ]
  },
  {
   "cell_type": "code",
   "execution_count": null,
   "id": "67d5cdc0",
   "metadata": {},
   "outputs": [],
   "source": [
    "spark.sql(\"\"\"\n",
    "    SELECT z.Zone AS pickup_zone, COUNT(*) AS num_trips\n",
    "    FROM yellow_trips t\n",
    "    JOIN taxi_zones z\n",
    "    ON t.PULocationID = z.LocationID\n",
    "    GROUP BY z.Zone\n",
    "    ORDER BY num_trips DESC\n",
    "    LIMIT 10\n",
    "\"\"\").show()"
   ]
  },
  {
   "cell_type": "code",
   "execution_count": 12,
   "id": "bed1128b",
   "metadata": {},
   "outputs": [],
   "source": [
    "spark.stop()"
   ]
  }
 ],
 "metadata": {
  "kernelspec": {
   "display_name": "base",
   "language": "python",
   "name": "python3"
  },
  "language_info": {
   "codemirror_mode": {
    "name": "ipython",
    "version": 3
   },
   "file_extension": ".py",
   "mimetype": "text/x-python",
   "name": "python",
   "nbconvert_exporter": "python",
   "pygments_lexer": "ipython3",
   "version": "3.11.4"
  }
 },
 "nbformat": 4,
 "nbformat_minor": 5
}
