{
 "cells": [
  {
   "cell_type": "markdown",
   "id": "1356aeb2",
   "metadata": {},
   "source": [
    "## Análisis de géneros y títulos"
   ]
  },
  {
   "cell_type": "markdown",
   "id": "cb4ebe5e",
   "metadata": {},
   "source": [
    "### Retos"
   ]
  },
  {
   "cell_type": "markdown",
   "id": "de357978",
   "metadata": {},
   "source": [
    "1. Extraer el año de la columna 'title' en una nueva columna 'year' (Ej: \"Toy Story (1995)\" → 1995). Usar una expresión regular con regexp_extract.\n",
    "2. Asegurar que los datos no tienen películas repetidas por movieId.\n",
    "3. Calcular el top 3 de películas más recientes por género, usar:\n",
    "    - Window.partitionBy().orderBy()\n",
    "    - row_number() de pyspark.sql.functions\n",
    "4. Guardar el resultado final con estas columnas: [movieId; title; year; genre]. Particionar por género. Leer solo las películas del género 'Horror'"
   ]
  },
  {
   "cell_type": "markdown",
   "id": "7d6fd6fe",
   "metadata": {},
   "source": [
    "### Resultados"
   ]
  },
  {
   "cell_type": "code",
   "execution_count": 10,
   "id": "e86943b1",
   "metadata": {},
   "outputs": [],
   "source": [
    "from pyspark.sql import SparkSession\n",
    "from pyspark.sql import functions as F\n",
    "from pyspark.sql.window import Window\n",
    "\n",
    "spark = SparkSession.builder.appName(\"PySpark01-challenge\").getOrCreate()\n",
    "df = spark.read.option(\"header\", True).option(\"inferSchema\", True).csv(\"../../data/movies.csv\")"
   ]
  },
  {
   "cell_type": "markdown",
   "id": "9c859e88",
   "metadata": {},
   "source": [
    "Apartado 1"
   ]
  },
  {
   "cell_type": "code",
   "execution_count": null,
   "id": "3c90853a",
   "metadata": {},
   "outputs": [],
   "source": [
    "df_year = df.withColumn('year', F.regexp_extract(F.col('title'), r\"\\((\\d{4})\\)\", 1))"
   ]
  },
  {
   "cell_type": "markdown",
   "id": "1a5d24d6",
   "metadata": {},
   "source": [
    "Apartado 2"
   ]
  },
  {
   "cell_type": "code",
   "execution_count": null,
   "id": "738ea3bb",
   "metadata": {},
   "outputs": [],
   "source": [
    "df.groupBy(\"movieId\").agg(F.count(\"*\").alias(\"repetitions\")).filter(\"repetitions > 1\").show()"
   ]
  },
  {
   "cell_type": "markdown",
   "id": "ca28e0fd",
   "metadata": {},
   "source": [
    "Apartado 3"
   ]
  },
  {
   "cell_type": "code",
   "execution_count": null,
   "id": "3730f91b",
   "metadata": {},
   "outputs": [],
   "source": [
    "df_exploded = df_year.withColumn(\"genre\", F.explode(F.split(F.col(\"genres\"), \"\\|\")))\n",
    "window_spec = Window.partitionBy(\"genre\").orderBy(F.col(\"year\").desc())\n",
    "df_top3 = df_exploded.withColumn(\"rank\", F.row_number().over(window_spec)) \\\n",
    "                     .filter(F.col(\"rank\") <= 3) \\\n",
    "                     .select(\"movieId\", \"title\", \"year\", \"genre\")\n",
    "df_top3.show()"
   ]
  },
  {
   "cell_type": "markdown",
   "id": "b3158d3f",
   "metadata": {},
   "source": [
    "Apartado 4"
   ]
  },
  {
   "cell_type": "code",
   "execution_count": null,
   "id": "0f1db25c",
   "metadata": {},
   "outputs": [],
   "source": [
    "df_top3.write.partitionBy(\"genre\").parquet(\"data/partition_by_genre.parquet\")\n",
    "horror_data = spark.read.parquet(\"./data/partition_by_genre.parquet/genre=Horror\")\n",
    "horror_data.show()"
   ]
  }
 ],
 "metadata": {
  "kernelspec": {
   "display_name": "base",
   "language": "python",
   "name": "python3"
  },
  "language_info": {
   "codemirror_mode": {
    "name": "ipython",
    "version": 3
   },
   "file_extension": ".py",
   "mimetype": "text/x-python",
   "name": "python",
   "nbconvert_exporter": "python",
   "pygments_lexer": "ipython3",
   "version": "3.11.4"
  }
 },
 "nbformat": 4,
 "nbformat_minor": 5
}
