{
 "cells": [
  {
   "cell_type": "markdown",
   "id": "d261a222",
   "metadata": {},
   "source": [
    "## Join, Aggregate y Window en profundidad"
   ]
  },
  {
   "cell_type": "markdown",
   "id": "95745ced",
   "metadata": {},
   "source": [
    "### Retos"
   ]
  },
  {
   "cell_type": "markdown",
   "id": "39e1aa3f",
   "metadata": {},
   "source": [
    "1. Limpieza y preparación\n",
    "    - Convertir timestamp a tipo fecha.\n",
    "    - Extraer el año desde el campo title.\n",
    "    - Validar que movieId es único en movies.\n",
    "    - Comprobar que todas los ratings hacen referencia a películas existentes en movies.csv\n",
    "2. Joins\n",
    "    - Unir ratings y movies por movieId, añadiendo a ratings las columnas de movies: title, views y quality.\n",
    "3. Aggregations\n",
    "    - Calcular el rating promedio por cada película\n",
    "    - Calcular el rating promedio por cada género\n",
    "    - Calcular el número de votos por cada película\n",
    "    - Obtener el/los usuario/s que tiene la puntuación más alta y el/los de la más baja\n",
    "    - Obtener la/s película/s con más de 5 votos que tienen el rating más polarizado (mayor varianza)\n",
    "4. Función Window\n",
    "    - Ranking de películas mejor valoradas por género\n",
    "    - Extraer el Top 2 de cada género y guardar en formato Parquet particionado por género. Tras esto, leer el top para el género 'Children' y 'Comedy'"
   ]
  },
  {
   "cell_type": "markdown",
   "id": "5829035e",
   "metadata": {},
   "source": [
    "Entorno"
   ]
  },
  {
   "cell_type": "code",
   "execution_count": null,
   "id": "c0ad288f",
   "metadata": {},
   "outputs": [],
   "source": [
    "from pyspark.sql import SparkSession\n",
    "import pyspark.sql.functions as f\n",
    "from pyspark.sql.window import Window\n",
    "from pyspark.sql.types import StructType, StructField, IntegerType, TimestampType, DoubleType\n",
    "\n",
    "schema = StructType([\n",
    "    StructField(\"userId\", IntegerType(), True),\n",
    "    StructField(\"movieId\", IntegerType(), True),\n",
    "    StructField(\"rating\", DoubleType(), True),\n",
    "    StructField(\"timestamp\", TimestampType(), True)\n",
    "])\n",
    "\n",
    "# Crear la sesión de Spark\n",
    "spark = SparkSession.builder.appName(\"PySpark02-challenge\").getOrCreate()\n",
    "\n",
    "movies = spark.read.csv(\"../../data/movies.csv\", header=True, inferSchema=True)\n",
    "ratings = spark.read.csv(\"../../data/ratings.csv\", header=True, inferSchema=True)"
   ]
  },
  {
   "cell_type": "markdown",
   "id": "46989b98",
   "metadata": {},
   "source": [
    "### Resultados"
   ]
  },
  {
   "cell_type": "markdown",
   "id": "b1aa2171",
   "metadata": {},
   "source": [
    "Apartado 1"
   ]
  },
  {
   "cell_type": "code",
   "execution_count": null,
   "id": "3258abb5",
   "metadata": {},
   "outputs": [],
   "source": [
    "# Transformación de timestamp a fecha\n",
    "ratings_t = ratings.withColumn(\"date\", f.to_date(f.from_unixtime('timestamp')))\n",
    "\n",
    "# Extracción de la columna año del título\n",
    "movies_t = movies.withColumn('year', f.regexp_extract(f.col('title'), r\"\\((\\d{4})\\)\", 1))\n",
    "\n",
    "print('Películas repetidas:')\n",
    "movies.groupBy('movieId').agg(f.count(\"*\").alias('repetitions')).filter(\"repetitions > 1\").show()\n",
    "\n",
    "print('Valoraciones que no corresponden a ninguna de las películas de movies.csv:')\n",
    "ratings.join(movies.select(\"movieId\", \"title\"), on=\"movieId\", how='left_anti').show()"
   ]
  },
  {
   "cell_type": "markdown",
   "id": "2984bc6d",
   "metadata": {},
   "source": [
    "Apartado 2"
   ]
  },
  {
   "cell_type": "code",
   "execution_count": null,
   "id": "c3ec9fd5",
   "metadata": {},
   "outputs": [],
   "source": [
    "join_movies_rating = ratings_t.join(movies_t.select(\"movieId\", \"title\", \"genres\", \"quality\"), on=\"movieId\", how='inner')\n",
    "join_movies_rating.show()"
   ]
  },
  {
   "cell_type": "markdown",
   "id": "05f2deaf",
   "metadata": {},
   "source": [
    "Apartado 3"
   ]
  },
  {
   "cell_type": "code",
   "execution_count": null,
   "id": "86f5dd3c",
   "metadata": {},
   "outputs": [],
   "source": [
    "# Media de valoraciones por película\n",
    "avg_ratings_movies = join_movies_rating.groupBy('title').agg(f.avg('rating').alias('movie_rating_average'))\n",
    "\n",
    "# Media de valoraciones por género\n",
    "normalize_genre = join_movies_rating.withColumn('genre', f.explode(f.split('genres', '\\|')))\n",
    "avg_ratings_genres = normalize_genre.groupBy('genre').agg(f.avg('rating').alias('genre_rating_average'))\n",
    "\n",
    "# Número de votos de cada película\n",
    "valorations_movie = join_movies_rating.groupBy('title').agg(f.count('*').alias('num_ratings'))\n",
    "\n",
    "# Usuarios que han dado la valoración más alta y más baja\n",
    "max_rating_users = ratings_t.groupBy().agg(f.max('rating').alias('max_rating')).join(ratings_t, f.col('max_rating') == f.col('rating'))\n",
    "min_rating_users = ratings_t.groupBy().agg(f.min('rating').alias('min_rating')).join(ratings_t, f.col('min_rating') == f.col('rating'))\n",
    "\n",
    "# Película/s con más de 5 votos que tienen el rating más polarizado\n",
    "rating_num_and_variance = join_movies_rating.groupBy('title').agg(f.count('rating').alias('num_ratings'), f.variance('rating').alias('rating_variance'))\n",
    "most_polarized = rating_num_and_variance.filter(f.col('num_ratings') > 5).orderBy(f.col('rating_variance').desc())"
   ]
  },
  {
   "cell_type": "markdown",
   "id": "15c565b8",
   "metadata": {},
   "source": [
    "Apartado 4"
   ]
  },
  {
   "cell_type": "code",
   "execution_count": null,
   "id": "63a6a28c",
   "metadata": {},
   "outputs": [],
   "source": [
    "# Calculamos de nuevo la media de votaciones de cada película para elegir las mejores valoradas\n",
    "movie_rating_avg = join_movies_rating.groupBy('movieId').agg(f.avg('rating').alias('rating_average'))\n",
    "join_movies_ratingavg = movies_t.join(movie_rating_avg, on='movieId', how='left')\n",
    "\n",
    "normalize_genre = join_movies_ratingavg.withColumn('genre', f.explode(f.split('genres', '\\|')))\n",
    "\n",
    "# Ventana que indica la columna de partición y el orden requerido para el ranking\n",
    "window_spec = Window.partitionBy(\"genre\").orderBy(f.col(\"rating_average\").desc())\n",
    "# Ranking de películas mejor valoradas\n",
    "ranking = normalize_genre.withColumn(\"rank\", f.row_number().over(window_spec))\n",
    "\n",
    "# Extraer el top 2 por género del ranking y almacenar en particiones por género\n",
    "top3 = ranking.select('title', 'views', 'year', 'genre', 'rating_average', 'rank').filter(f.col(\"rank\") < 3)\n",
    "top3.write.partitionBy(\"genre\").parquet(\"data/top2_partition_by_genre.parquet\")\n",
    "\n",
    "# Leer los top almacenados para el género 'Children' y 'Comedy'\n",
    "print('Top 2 películas de Niños:')\n",
    "spark.read.parquet(\"./data/top2_partition_by_genre.parquet/genre=Children\").show()\n",
    "\n",
    "print('Top 2 películas de Comedia:')\n",
    "spark.read.parquet(\"./data/top2_partition_by_genre.parquet/genre=Comedy\").show()"
   ]
  },
  {
   "cell_type": "code",
   "execution_count": 126,
   "id": "db41ed76",
   "metadata": {},
   "outputs": [],
   "source": [
    "spark.stop()"
   ]
  }
 ],
 "metadata": {
  "kernelspec": {
   "display_name": "base",
   "language": "python",
   "name": "python3"
  },
  "language_info": {
   "codemirror_mode": {
    "name": "ipython",
    "version": 3
   },
   "file_extension": ".py",
   "mimetype": "text/x-python",
   "name": "python",
   "nbconvert_exporter": "python",
   "pygments_lexer": "ipython3",
   "version": "3.11.4"
  }
 },
 "nbformat": 4,
 "nbformat_minor": 5
}
