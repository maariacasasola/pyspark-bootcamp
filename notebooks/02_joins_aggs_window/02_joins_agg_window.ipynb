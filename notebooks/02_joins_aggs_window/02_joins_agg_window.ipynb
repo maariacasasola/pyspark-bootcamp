{
 "cells": [
  {
   "cell_type": "markdown",
   "id": "ffdfb5c6",
   "metadata": {},
   "source": [
    "# Joins, Aggregations y función Window en profundidad"
   ]
  },
  {
   "cell_type": "markdown",
   "id": "e65207fd",
   "metadata": {},
   "source": [
    "### Preparación de entorno y carga de datos"
   ]
  },
  {
   "cell_type": "code",
   "execution_count": null,
   "id": "33256731",
   "metadata": {},
   "outputs": [],
   "source": [
    "from pyspark.sql import SparkSession\n",
    "import pyspark.sql.functions as f\n",
    "from pyspark.sql.window import Window\n",
    "\n",
    "# Crear la sesión de Spark\n",
    "spark = SparkSession.builder.appName(\"PySpark02\").getOrCreate()\n",
    "\n",
    "movies = spark.read.csv(\"../../data/movies.csv\", header=True, inferSchema=True)\n",
    "ratings = spark.read.csv(\"../../data/ratings.csv\", header=True, inferSchema=True)"
   ]
  },
  {
   "cell_type": "markdown",
   "id": "dd467188",
   "metadata": {},
   "source": [
    "## JOINs en PySpark"
   ]
  },
  {
   "cell_type": "markdown",
   "id": "ec6e2b78",
   "metadata": {},
   "source": [
    "Los joins permiten combinar datos de dos DataFrames en función de columnas comunes (que se recomienda que sean ids). Es fundamental para enriquecer un conjunto de datos con información de otro."
   ]
  },
  {
   "cell_type": "markdown",
   "id": "aa7b311e",
   "metadata": {},
   "source": [
    "#### Tipos de Joins"
   ]
  },
  {
   "cell_type": "markdown",
   "id": "ab00488a",
   "metadata": {},
   "source": [
    "|Tipo|Descripción|\n",
    "|----------|----------|\n",
    "|inner|Devuelve solo las filas que coinciden en ambas tablas.|\n",
    "|left|Devuelve todas las filas de la izquierda y las coincidencias de la derecha. Si no hay coincidencia, los valores de la derecha son null.|\n",
    "|right|Igual que left, pero para el DataFrame derecho.|\n",
    "|outer|Devuelve todas las filas, con null donde no hay coincidencia.|\n",
    "|semi|Devuelve solo las filas del DataFrame izquierdo que tienen coincidencia, sin añadir columnas del derecho.|\n",
    "|anti|Devuelve las filas del DataFrame izquierdo que no tienen coincidencia en el derecho.|"
   ]
  },
  {
   "cell_type": "code",
   "execution_count": null,
   "id": "014e3f00",
   "metadata": {},
   "outputs": [],
   "source": [
    "# Añade los títulos de las películas a los datos de puntuaciones\n",
    "ratings_with_titles = ratings.join(movies.select(\"movieId\", \"title\"), on=\"movieId\", how=\"inner\")\n",
    "ratings_with_titles.show(10)"
   ]
  },
  {
   "cell_type": "markdown",
   "id": "15241a2b",
   "metadata": {},
   "source": [
    "## Aggregate"
   ]
  },
  {
   "cell_type": "markdown",
   "id": "7aa87c38",
   "metadata": {},
   "source": [
    "Las agregaciones te permiten resumir o condensar la información de un DataFrame usando funciones como avg, count, max, min, sum, etc."
   ]
  },
  {
   "cell_type": "code",
   "execution_count": null,
   "id": "9194b4cd",
   "metadata": {},
   "outputs": [],
   "source": [
    "# Calcula el Top 5 de películas con mayor promedio de rating\n",
    "movie_stats = ratings_with_titles.groupBy(\"title\") \\\n",
    "    .agg(f.count(\"rating\").alias(\"num_ratings\"), f.avg(\"rating\").alias(\"avg_rating\")) \\\n",
    "    .orderBy(\"avg_rating\", ascending=False)\n",
    "\n",
    "print('Top 5 de películas con mayor media de valoraciones:')\n",
    "movie_stats.show(5, truncate=False)"
   ]
  },
  {
   "cell_type": "markdown",
   "id": "bd1708c6",
   "metadata": {},
   "source": [
    "## Función Window"
   ]
  },
  {
   "cell_type": "markdown",
   "id": "0d57494d",
   "metadata": {},
   "source": [
    "Las window functions permiten realizar cálculos sobre un grupo de filas relacionadas, pero sin colapsarlas en una sola fila (a diferencia de groupBy). Muy útil para rankings, medias móviles, diferencias entre filas, etc."
   ]
  },
  {
   "cell_type": "markdown",
   "id": "d6766220",
   "metadata": {},
   "source": [
    "#### Componentes de una Window"
   ]
  },
  {
   "cell_type": "markdown",
   "id": "3ea368b3",
   "metadata": {},
   "source": [
    "- *partitionBy*: cómo dividir los datos (ej. por usuario)\n",
    "- *orderBy*: cómo ordenar cada partición (ej. por valoraciones)"
   ]
  },
  {
   "cell_type": "code",
   "execution_count": null,
   "id": "7fae35cd",
   "metadata": {},
   "outputs": [],
   "source": [
    "#Película más valorada por cada usuario\n",
    "window_user = Window.partitionBy(\"userId\").orderBy(ratings_with_titles[\"rating\"].desc())\n",
    "\n",
    "top_movies_per_user = ratings_with_titles \\\n",
    "    .withColumn(\"rank\", f.row_number().over(window_user)) \\\n",
    "    .filter(\"rank = 1\")\n",
    "\n",
    "print('Película más valorada por cada usuario:')\n",
    "top_movies_per_user.select(\"userId\", \"title\", \"rating\").show(10)"
   ]
  },
  {
   "cell_type": "code",
   "execution_count": 24,
   "id": "da95d152",
   "metadata": {},
   "outputs": [],
   "source": [
    "spark.stop()"
   ]
  },
  {
   "cell_type": "markdown",
   "id": "259528eb",
   "metadata": {},
   "source": [
    "## Conclusión"
   ]
  },
  {
   "cell_type": "markdown",
   "id": "d3002e60",
   "metadata": {},
   "source": [
    "| Concepto             | ¿Para qué se usa?                           |\n",
    "| -------------------- | ------------------------------------------- |\n",
    "| **Joins**            | Combinar datos de distintas fuentes         |\n",
    "| **Aggregations**     | Resumir información (medias, conteos, etc.) |\n",
    "| **Window Functions** | Cálculos avanzados sobre grupos sin agrupar |"
   ]
  },
  {
   "cell_type": "markdown",
   "id": "4265168f",
   "metadata": {},
   "source": []
  }
 ],
 "metadata": {
  "kernelspec": {
   "display_name": "base",
   "language": "python",
   "name": "python3"
  },
  "language_info": {
   "codemirror_mode": {
    "name": "ipython",
    "version": 3
   },
   "file_extension": ".py",
   "mimetype": "text/x-python",
   "name": "python",
   "nbconvert_exporter": "python",
   "pygments_lexer": "ipython3",
   "version": "3.11.4"
  }
 },
 "nbformat": 4,
 "nbformat_minor": 5
}
